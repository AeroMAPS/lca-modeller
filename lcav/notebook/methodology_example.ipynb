{
 "cells": [
  {
   "cell_type": "markdown",
   "id": "38f64452-4f19-4e09-905a-5785db861ebe",
   "metadata": {},
   "source": [
    "# Illustrative example for AeroMAPS/LCA methodology"
   ]
  },
  {
   "cell_type": "code",
   "execution_count": 1,
   "id": "8f9a2cc4-57b2-4336-9a34-a4a20ab84393",
   "metadata": {},
   "source": [
    "# Libraries import\n",
    "import sys\n",
    "import os\n",
    "import os.path as pth\n",
    "sys.path.insert(0, '../..')\n",
    "    \n",
    "from lcav.lca_problem import *\n",
    "from lcav.helpers import *\n",
    "from lcav.io.configuration import *\n",
    "from lcav.gui.plots import *\n",
    "import matplotlib.pyplot as plt \n",
    "\n",
    "# Pretty print for Sympy\n",
    "from sympy import init_printing\n",
    "init_printing()\n",
    "\n",
    "# Paths\n",
    "#os.chdir('./notebook')\n",
    "DATA_FOLDER = './data'\n",
    "CONFIGURATION_FILE = pth.join(DATA_FOLDER, 'configuration_methodo_ei391.yaml')"
   ],
   "outputs": []
  },
  {
   "cell_type": "markdown",
   "id": "3d0758cb-ec45-438f-b872-e4a924e0d916",
   "metadata": {},
   "source": [
    "## 1) Setup parameterized LCA model"
   ]
  },
  {
   "cell_type": "code",
   "execution_count": 2,
   "id": "8a3c3336-abed-4117-9445-b4494d726ec1",
   "metadata": {},
   "source": [
    "project, model, methods = LCAProblemConfigurator(CONFIGURATION_FILE).generate()"
   ],
   "outputs": []
  },
  {
   "cell_type": "code",
   "execution_count": 3,
   "id": "f8e45132-0fd4-4b05-a5ee-57dc93fef80f",
   "metadata": {},
   "source": [
    "#problem = LCAProblemConfigurator(CONFIGURATION_FILE).get_problem()"
   ],
   "outputs": []
  },
  {
   "cell_type": "code",
   "execution_count": 4,
   "id": "1d80c52d-7445-4b7a-8be1-d4cc21c88b11",
   "metadata": {},
   "source": [
    "agb.list_databases()"
   ],
   "outputs": []
  },
  {
   "cell_type": "code",
   "execution_count": 5,
   "id": "e9ee0721-c4d5-40d0-9eac-9fcf5c58b88c",
   "metadata": {},
   "source": [
    "process_tree(model, foreground_only=True)"
   ],
   "outputs": []
  },
  {
   "cell_type": "code",
   "execution_count": 6,
   "id": "03c75957-1fdd-4a2a-90a1-9a55b8da644e",
   "metadata": {},
   "source": [
    "list_processes(model)"
   ],
   "outputs": []
  },
  {
   "cell_type": "code",
   "execution_count": 7,
   "id": "8b555586-3c77-4a5e-9cbd-14ed26000381",
   "metadata": {},
   "source": [
    "agb.list_parameters()"
   ],
   "outputs": []
  },
  {
   "cell_type": "markdown",
   "id": "e0c75983-43a4-46f9-a9d0-13d6730c04d4",
   "metadata": {},
   "source": [
    "## 2) LCIA"
   ]
  },
  {
   "cell_type": "code",
   "execution_count": 8,
   "id": "f71818d9-9a59-4c1a-aefa-bfa2387485a7",
   "metadata": {},
   "source": [
    "#import IPython.display as disp\n",
    "\n",
    "#for i, expr in enumerate(problem.lambdas):\n",
    "#    print(problem.methods[i])\n",
    "#    disp.display(expr)"
   ],
   "outputs": []
  },
  {
   "cell_type": "code",
   "execution_count": 8,
   "id": "59808a16-6bec-4de5-a0b1-150202a2487a",
   "metadata": {},
   "source": [
    "agb.compute_impacts(\n",
    "    model,\n",
    "    methods,\n",
    "    \n",
    "    functional_unit = 1.03e13,  # divide impacts by this value\n",
    "    axis = 'phase',\n",
    "    \n",
    "    n_aircraft = 25000,\n",
    "    aircraft_lifetime = 25,\n",
    "    n_airports = 0,\n",
    "    airport_lifetime = 100,\n",
    "    total_energy = 3e12, # kWh\n",
    "    energy_density_kero = 11.99, # kWh/kg\n",
    "    share_efuel = 0.0,\n",
    "    amount_elec_h2 = 2, # kWh of elec to produce 1 kWh of efuel\n",
    "    amount_h2 = 1, # kg of h2 to produce 1 kg of efuel,\n",
    "    energy_density_h2 = 33.6,\n",
    "    electricity_switch_param = 'pv'\n",
    "    # ... default values will be set for parameters not provided by the user\n",
    ")"
   ],
   "outputs": []
  },
  {
   "cell_type": "code",
   "execution_count": 10,
   "id": "0a81d1c6-ee2e-455a-8613-400da6c7aa05",
   "metadata": {},
   "source": [
    "# reset parameters distributions\n",
    "#for param in lcalg.params._param_registry().all():\n",
    "#    param.distrib = 'linear'"
   ],
   "outputs": []
  },
  {
   "cell_type": "code",
   "execution_count": 11,
   "id": "90647695-ce84-44cc-ad16-56df4db895b8",
   "metadata": {},
   "source": [
    "# Multiple runs for a list of values (e.g., one value per year)\n",
    "parameters = dict(\n",
    "    n_aircraft = 25000,\n",
    "    aircraft_lifetime = 25,\n",
    "    n_airports = 0,\n",
    "    airport_lifetime = 100,\n",
    "    total_energy = 3e12, # kWh\n",
    "    energy_density_kero = 11.99, # kWh/kg\n",
    "    share_efuel = [0.0, 0.1, 0.2, 0.3, 0.5],\n",
    "    amount_elec_h2 = [2, 1.8, 1.7, 1.3, 1.0], # kWh of elec to produce 1 kWh of efuel\n",
    "    amount_h2 = [1, 0.9, 0.7, 0.6, 0.5], # kg of h2 to produce 1 kg of efuel,\n",
    "    energy_density_h2 = 33.6,\n",
    "    electricity_switch_param = 'pv'\n",
    ")\n",
    "\n",
    "df = agb.compute_impacts(\n",
    "    model,\n",
    "    methods,\n",
    "    \n",
    "    functional_unit = 1.03e13,  # divide impacts by this value\n",
    "    #axis = 'phase',\n",
    "    return_params=False,\n",
    "\n",
    "    **parameters\n",
    ")\n",
    "df"
   ],
   "outputs": []
  },
  {
   "cell_type": "code",
   "execution_count": 19,
   "id": "c2ce4bfc-34b1-4ab3-bd17-ed8066b0acc6",
   "metadata": {},
   "source": [
    "df.index"
   ],
   "outputs": []
  },
  {
   "cell_type": "code",
   "execution_count": 20,
   "id": "30632397-f39a-490a-922f-e93e36ea35fa",
   "metadata": {},
   "source": [
    "for col in df.columns:\n",
    "    print(df.loc[:,col].values)"
   ],
   "outputs": []
  },
  {
   "cell_type": "code",
   "execution_count": 14,
   "id": "a8636ba7-d867-40d6-b40f-97f294ebe65d",
   "metadata": {},
   "source": [
    "agb.lca._modelToExpr(problem.model, problem.methods)"
   ],
   "outputs": []
  },
  {
   "cell_type": "code",
   "execution_count": 25,
   "id": "ec2c161b-f1d8-4e77-844a-d7852b6f9488",
   "metadata": {
    "tags": []
   },
   "source": [
    "# Plot evolution\n",
    "plt.style.use('ggplot')\n",
    "fig, axs = plt.subplots(2,2, figsize=(16,8))\n",
    "\n",
    "years_list = [2020, 2030, 2040, 2050]\n",
    "df_climate = pd.DataFrame({'years': years_list})\n",
    "df_acid = pd.DataFrame({'years': years_list})\n",
    "df_water = pd.DataFrame({'years': years_list})\n",
    "df_land = pd.DataFrame({'years': years_list})\n",
    "\n",
    "#model = [exc.input for exc in problem.model.technosphere()]\n",
    "#activities = [exc.input for exc in model[0].technosphere()]\n",
    "\n",
    "aircraft_prod = lcalg.findActivity(name='aircraft production, passenger aircraft, long haul', db_name='ecoinvent 3.9_cutoff_ecoSpold02')\n",
    "airport = lcalg.findActivity(name='market for airport', db_name='ecoinvent 3.9_cutoff_ecoSpold02')\n",
    "kerosene = lcalg.findActivity(name='kerosene', db_name='Foreground DB')\n",
    "efuel = lcalg.findActivity(name='efuel', db_name='Foreground DB')\n",
    "\n",
    "sub_processes = [aircraft_prod, airport, kerosene, efuel]\n",
    "\n",
    "for act in sub_processes:\n",
    "    res = problem.compute_lcia(\n",
    "        extract_activities=[act],\n",
    "        **parameters\n",
    "    )\n",
    "    df_climate[act.as_dict()['name']] = res['climate change - global warming potential (GWP100)[kg CO2-Eq]']\n",
    "    df_acid[act.as_dict()['name']] = res['acidification - accumulated exceedance (AE)[mol H+-Eq]']\n",
    "    df_water[act.as_dict()['name']] = res['water use - user deprivation potential (deprivation-weighted water consumption)[m3 world eq. deprived]']\n",
    "    df_land[act.as_dict()['name']] = res['land use - soil quality index[dimensionless]']\n",
    "\n",
    "df_climate.set_index('years', inplace=True)\n",
    "df_climate.plot(ax=axs[0][0], kind='area', alpha=0.3, stacked=True)\n",
    "axs[0][0].set_title('Evolution of CO2 emissions');\n",
    "axs[0][0].set_ylabel('CO2 emissions per ASK [kg]');\n",
    "axs[0][0].set_xlabel('Year');\n",
    "\n",
    "df_acid.set_index('years', inplace=True)\n",
    "df_acid.plot(ax=axs[0][1], kind='area', alpha=0.3, stacked=True)\n",
    "axs[0][1].set_title('Evolution of acidification');\n",
    "axs[0][1].set_ylabel('AE per ASK [mol H+-Eq]');\n",
    "axs[0][1].set_xlabel('Year');\n",
    "\n",
    "df_water.set_index('years', inplace=True)\n",
    "df_water.plot(ax=axs[1][0], kind='area', alpha=0.3, stacked=True)\n",
    "axs[1][0].set_title('Evolution of water use');\n",
    "axs[1][0].set_ylabel('m3 per ASK');\n",
    "axs[1][0].set_xlabel('Year');\n",
    "\n",
    "df_land.set_index('years', inplace=True)\n",
    "df_land.plot(ax=axs[1][1], kind='area', alpha=0.3, stacked=True)\n",
    "axs[1][1].set_title('Evolution of land use');\n",
    "axs[1][1].set_ylabel('soil quality index per ASK');\n",
    "axs[1][1].set_xlabel('Year');\n",
    "\n",
    "plt.tight_layout()"
   ],
   "outputs": []
  },
  {
   "cell_type": "markdown",
   "id": "d79bef01-9871-4a2b-b48d-c7a4f251bc0c",
   "metadata": {},
   "source": [
    "## 3) Global sensitivity analysis"
   ]
  },
  {
   "cell_type": "code",
   "execution_count": 125,
   "id": "3b6e2e63-1a50-466b-941b-628d693a415f",
   "metadata": {},
   "source": [
    "#problem.list_parameters()"
   ],
   "outputs": []
  },
  {
   "cell_type": "code",
   "execution_count": 26,
   "id": "8c07d462-82be-4270-8fe2-59504d48b5f9",
   "metadata": {},
   "source": [
    "# Set parameters \n",
    "ask = problem.get_parameter('ASK')\n",
    "ask.distrib = \"fixed\"  # Fixed value, not considered as a variable input for monte carlo simulation\n",
    "ask.default = 1.03e13\n",
    "\n",
    "aircraft_lifetime = problem.get_parameter('aircraft_lifetime')\n",
    "aircraft_lifetime.distrib = \"normal\"  # Normal distribution, centered on *default* value (mean), with deviation of *std* and truncated between *min* and *max*\n",
    "aircraft_lifetime.default = 25\n",
    "aircraft_lifetime.std = 5\n",
    "aircraft_lifetime.min = 15\n",
    "aircraft_lifetime.max = 35\n",
    "\n",
    "#airport_lifetime = problem.get_parameter('airport_lifetime')\n",
    "#airport_lifetime.distrib = \"lognormal\"  # Lognormal distribution, centered on *default* value (mean), with deviation of *std*, not truncated\n",
    "#airport_lifetime_avg = 70; airport_lifetime_std = 50;\n",
    "#airport_lifetime.default = np.log(airport_lifetime_avg)\n",
    "#airport_lifetime.std = np.log(1+(airport_lifetime_std/airport_lifetime_avg)**2)**.5 # careful, std for a lognormal distribution is actually the lognormal of the std\n",
    "\n",
    "airport_lifetime = problem.get_parameter('airport_lifetime')\n",
    "airport_lifetime.distrib = \"normal\" \n",
    "airport_lifetime.default = 100\n",
    "airport_lifetime.std = 10\n",
    "airport_lifetime.min = 50\n",
    "airport_lifetime.max = 150\n",
    "\n",
    "amount_elec_h2 = problem.get_parameter('amount_elec_h2')\n",
    "amount_elec_h2.distrib = \"triangle\"  # Triangle distribution between *min* and *max* (set to zero probability), with highest probability at *default* value\n",
    "amount_elec_h2.default = 2.0\n",
    "amount_elec_h2.min = 1.0\n",
    "amount_elec_h2.max = 3.0\n",
    "\n",
    "amount_h2 = problem.get_parameter('amount_h2')\n",
    "amount_h2.distrib = \"triangle\"  # Triangle distribution between *min* and *max* (set to zero probability), with highest probability at *default* value\n",
    "amount_h2.default = 1.0\n",
    "amount_h2.min = 0.5\n",
    "amount_h2.max = 2.0\n",
    "\n",
    "energy_density_h2 = problem.get_parameter('energy_density_h2')\n",
    "# default distribution is 'linear': Uniform distribution between *min* and *max*\n",
    "# energy_density_h2.distrib = \"linear\"\n",
    "energy_density_h2.default = 33.6\n",
    "energy_density_h2.min = 30.0\n",
    "energy_density_h2.max = 35.0\n",
    "\n",
    "energy_density_kero = problem.get_parameter('energy_density_kero')\n",
    "energy_density_kero.distrib = \"fixed\"\n",
    "energy_density_kero.default = 11.99\n",
    "\n",
    "n_aircraft = problem.get_parameter('n_aircraft')\n",
    "n_aircraft.distrib = 'fixed'\n",
    "n_aircraft.default = 25000  \n",
    "\n",
    "n_airports = problem.get_parameter('n_airports')\n",
    "n_airports.distrib = 'fixed'\n",
    "n_airports.default = 0 #1000\n",
    "\n",
    "share_efuel = problem.get_parameter('share_efuel')\n",
    "share_efuel.distrib = \"triangle\"  # Triangle distribution between *min* and *max* (set to zero probability), with highest probability at *default* value\n",
    "share_efuel.default = 0.15\n",
    "share_efuel.min = 0.0\n",
    "share_efuel.max = 0.6\n",
    "\n",
    "total_energy = problem.get_parameter('total_energy')\n",
    "total_energy.distrib = 'fixed'\n",
    "total_energy.default = 3e12\n",
    "\n",
    "electricity_switch_param = problem.get_parameter('electricity_switch_param')\n",
    "electricity_switch_param.distrib = 'fixed'\n",
    "electricity_switch_param.weights = {'pv': 0.8, 'wind': 0.2} # statistical weights for each value\n",
    "electricity_switch_param.sum = sum(electricity_switch_param.weights.values())\n",
    "# Or fix the elec mix\n",
    "#electricity_switch_param.distrib = 'fixed'\n",
    "#electricity_switch_param.default = 'pv'"
   ],
   "outputs": []
  },
  {
   "cell_type": "code",
   "execution_count": 27,
   "id": "b788b0aa-9e4a-44bd-8db2-35a969f0c0ea",
   "metadata": {},
   "source": [
    "problem.list_parameters()"
   ],
   "outputs": []
  },
  {
   "cell_type": "code",
   "execution_count": 28,
   "id": "b51f62e4-080d-44a0-a241-dbc7f5975b8a",
   "metadata": {
    "jupyter": {
     "source_hidden": true
    }
   },
   "source": [
    "from lcav.notebook.utils import utils\n",
    "#import seaborn as sns\n",
    "\n",
    "#utils._plot_params([amount_elec_h2,amount_h2, airport_lifetime, aircraft_lifetime], figsize=(8,4), size=1000)\n",
    "#utils._plot_params([amount_elec_h2,amount_h2, airport_lifetime, aircraft_lifetime, electricity_switch_param], figsize=(8,4), size=1000)\n",
    "utils._plot_params([p for p in lcalg.params._param_registry().all() if p.distrib in ['linear', 'triangle', 'lognormal', 'normal']], columns=3, size=2000, figsize=(16,9))"
   ],
   "outputs": []
  },
  {
   "cell_type": "code",
   "execution_count": 29,
   "id": "16126fbd-6373-4783-879a-52425db9e865",
   "metadata": {},
   "source": [
    "#lcalg.oat_matrix(problem.model, problem.methods)"
   ],
   "outputs": []
  },
  {
   "cell_type": "code",
   "execution_count": 30,
   "id": "c644122c-c7b9-4770-b052-b85760504915",
   "metadata": {},
   "source": [
    "res = lcalg.distrib(problem.model, problem.methods)"
   ],
   "outputs": []
  },
  {
   "cell_type": "code",
   "execution_count": 32,
   "id": "7a48ad04-04ec-4ede-9ddc-5f294376a6dc",
   "metadata": {},
   "source": [
    "lcalg.incer_stochastic_matrix(problem.model, problem.methods)"
   ],
   "outputs": []
  },
  {
   "cell_type": "code",
   "execution_count": null,
   "id": "a139ebc7-a843-4f72-9256-99ab55ccf21a",
   "metadata": {},
   "source": [],
   "outputs": []
  }
 ],
 "metadata": {
  "kernelspec": {
   "display_name": "Python 3 (ipykernel)",
   "language": "python",
   "name": "python3"
  },
  "language_info": {
   "codemirror_mode": {
    "name": "ipython",
    "version": 3
   },
   "file_extension": ".py",
   "mimetype": "text/x-python",
   "name": "python",
   "nbconvert_exporter": "python",
   "pygments_lexer": "ipython3",
   "version": "3.10.14"
  }
 },
 "nbformat": 4,
 "nbformat_minor": 5
}
