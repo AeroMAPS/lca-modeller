{
 "cells": [
  {
   "cell_type": "code",
   "execution_count": 1,
   "id": "676f7b96-837d-481f-ba2e-e8ddb50d6cb4",
   "metadata": {
    "tags": []
   },
   "source": [
    "# Libraries import\n",
    "import sys\n",
    "import os\n",
    "import os.path as pth\n",
    "sys.path.insert(0, '../..')\n",
    "    \n",
    "from lcav.lca_problem import *\n",
    "from lcav.helpers import *\n",
    "from lcav.io.configuration import *\n",
    "from lcav.gui.plots import *\n",
    "import matplotlib.pyplot as plt \n",
    "from premise import clear_cache\n",
    "\n",
    "# Pretty print for Sympy\n",
    "from sympy import init_printing\n",
    "init_printing()\n",
    "\n",
    "# Paths\n",
    "#os.chdir('./notebook')\n",
    "DATA_FOLDER = './data'\n",
    "CONFIGURATION_FILE = pth.join(DATA_FOLDER, 'configuration_methodo_ei391.yaml')\n",
    "\n",
    "#clear_cache()  # clear premise cache"
   ],
   "outputs": []
  },
  {
   "cell_type": "code",
   "execution_count": 2,
   "id": "d8b6ee7a-bb8b-40ef-8ece-a4b9f6a61c4f",
   "metadata": {
    "tags": []
   },
   "source": [
    "_, model, methods = LCAProblemConfigurator(CONFIGURATION_FILE).generate()"
   ],
   "outputs": []
  },
  {
   "cell_type": "code",
   "execution_count": 3,
   "id": "85994d4e-6e5a-4859-8cdf-4e90ed9a3570",
   "metadata": {
    "tags": []
   },
   "source": [
    "#agb.findActivity('carbon monoxide, from RWGS, for Fischer Tropsch process, hydrogen from electrolysis', db_name='ecoinvent_cutoff_3.9_remind_SSP2-Base_2050', loc='World').listExchanges()\n",
    "#test = agb.findActivity('kerosene production, synthetic, Fischer Tropsch process, hydrogen from electrolysis, energy allocation\\n(remind_SSP2_Base_2020)', \n",
    "#                 db_name = 'Foreground DB')#.listExchanges()\n",
    "\n",
    "#test = agb.findActivity('electricity production, photovoltaic, commercial', db_name='ecoinvent_cutoff_3.9_remind_SSP2-Base_2050', single=False)\n",
    "#test = agb.findActivity('carbon dioxide, captured from atmosphere, with a solvent-based direct air capture system, 1MtCO2, with heat pump heat, and grid electricity', \n",
    "#                        db_name='ecoinvent_cutoff_3.9_remind_SSP2-Base_2050',\n",
    "#                        loc='World',\n",
    "#                        single=False)\n",
    "\n",
    "test = agb.findActivity('hydrogen production, gaseous, 30 bar, from PEM electrolysis, from grid electricity', \n",
    "                        db_name='ecoinvent_cutoff_3.9_remind_SSP2-Base_2020',\n",
    "                        loc='World',\n",
    "                        single=False)\n",
    "\n",
    "test = agb.findActivity('transport, passenger aircraft, long haul', \n",
    "                        db_name='ecoinvent_cutoff_3.9_remind_SSP2-Base_2050',\n",
    "                        #loc='World',\n",
    "                        single=False)\n",
    "\n",
    "#test.listExchanges()\n",
    "\n",
    "#test.as_dict()\n",
    "    \n",
    "\n",
    "#test\n",
    "\n",
    "#test.listExchanges()\n",
    "\n",
    "#[exc.input for exc in agb.findActivity('syngas updated', \n",
    "#                 db_name = 'Foreground DB').exchanges()] #listExchanges()"
   ],
   "outputs": []
  },
  {
   "cell_type": "code",
   "execution_count": 6,
   "id": "e7564bd2-201b-4a2f-a2ec-a41fa4e776ee",
   "metadata": {
    "tags": []
   },
   "source": [
    "process_tree(model, foreground_only=True)"
   ],
   "outputs": []
  },
  {
   "cell_type": "code",
   "execution_count": 5,
   "id": "d8173fdd-9fe8-4eb1-9dd9-5599bb1d22e4",
   "metadata": {
    "tags": []
   },
   "source": [
    "agb.list_databases()"
   ],
   "outputs": []
  },
  {
   "cell_type": "code",
   "execution_count": 162,
   "id": "147cc01d-dadb-41c8-8a0a-afbf683a1727",
   "metadata": {
    "tags": []
   },
   "source": [
    "agb.list_parameters()"
   ],
   "outputs": []
  },
  {
   "cell_type": "code",
   "execution_count": 7,
   "id": "9cf3de9b-3850-426a-bf24-6922cb05761c",
   "metadata": {
    "tags": []
   },
   "source": [
    "list_processes(model, foreground_only=True)"
   ],
   "outputs": []
  },
  {
   "cell_type": "code",
   "execution_count": 8,
   "id": "786057e1-1d9a-4730-bda5-adb2c9f22ecf",
   "metadata": {
    "tags": []
   },
   "source": [
    "parameters = {\n",
    "    'year': 2020,\n",
    "    'model': 'remind',\n",
    "    'pathway': 'SSP2_Base',\n",
    "    #'energy_consumption_electrofuel': 10e6,\n",
    "    #'elec_solar_share': 0.0\n",
    "}\n",
    "\n",
    "res = agb.compute_impacts(\n",
    "    model,\n",
    "    methods,\n",
    "    return_params=False,\n",
    "    #axis='phase',\n",
    "    **parameters,\n",
    ")\n",
    "res"
   ],
   "outputs": []
  },
  {
   "cell_type": "code",
   "execution_count": 10,
   "id": "623907b6-7b2e-4ea0-82c0-32e20a3f2132",
   "metadata": {
    "tags": []
   },
   "source": [
    "parameters = {\n",
    "    'year': [year for year in range(2020, 2050)],\n",
    "    'model': 'remind',\n",
    "    'pathway': 'SSP2_Base'\n",
    "    'energy_consumption_electrofuel': 10e6,\n",
    "    'elec_solar_share': 0.0\n",
    "}\n",
    "\n",
    "res = agb.compute_impacts(\n",
    "    model,\n",
    "    methods,\n",
    "    return_params=False,\n",
    "    **parameters,\n",
    ")\n",
    "res"
   ],
   "outputs": []
  },
  {
   "cell_type": "code",
   "execution_count": 111,
   "id": "6a5780f5-b29a-40d3-b6b6-4ca8daf5a4a8",
   "metadata": {
    "tags": []
   },
   "source": [],
   "outputs": []
  },
  {
   "cell_type": "code",
   "execution_count": 24,
   "id": "a381690f-263c-4650-9e39-1eca7ad40ab9",
   "metadata": {
    "tags": []
   },
   "source": [
    "import time\n",
    "start_time = time.time()\n",
    "\n",
    "lambdas = agb.lca._preMultiLCAAlgebric(model, methods)\n",
    "\n",
    "print(\"--- %s seconds ---\" % (time.time() - start_time))"
   ],
   "outputs": []
  },
  {
   "cell_type": "code",
   "execution_count": 122,
   "id": "5cf8626c-b9b8-4311-a24c-00af36cf1bf5",
   "metadata": {
    "tags": []
   },
   "source": [
    "import time\n",
    "start_time = time.time()\n",
    "\n",
    "parameters = {\n",
    "    'year': [year for year in range(2020, 2050)],\n",
    "    'model': 'remind',\n",
    "    'pathway': 'SSP2_Base'\n",
    "}\n",
    "\n",
    "dfs = []\n",
    "param = {\n",
    "        'year': 2020,\n",
    "        'model': 'remind',\n",
    "        'pathway': 'SSP2_Base'\n",
    "    }\n",
    "\n",
    "for i, year in enumerate(parameters):\n",
    "    param['year'] = year\n",
    "    res = agb.lca._postMultiLCAAlgebric(methods, lambdas, **parameters)\n",
    "    dfs.append(res)\n",
    "    #res = _postMultiLCAAlgebric(methods, lambdas, **parameters)\n",
    "\n",
    "print(\"--- %s seconds ---\" % (time.time() - start_time))"
   ],
   "outputs": []
  },
  {
   "cell_type": "code",
   "execution_count": 139,
   "id": "1d1b3d3b-fbf2-4a26-9d5c-605496e0e2ef",
   "metadata": {
    "tags": []
   },
   "source": [
    "def compute_impacts_from_lambdas(\n",
    "    lambdas,\n",
    "    methods,\n",
    "    axis='phase',\n",
    "    **params: Dict[str, agb.SingleOrMultipleFloat],\n",
    "):\n",
    "    \"\"\"\n",
    "    Modified version of compute_impacts from lca_algebraic.\n",
    "    More like a wrapper of _postLCAAlgebraic, to avoid calling _preLCAAlgebraic which is unecessarily time consuming when lambdas have already been calculated and doesn't have to be updated.\n",
    "    \"\"\"\n",
    "    dfs = dict()\n",
    "\n",
    "    # Gather all param values (even default and computed)\n",
    "    params_all = dict()\n",
    "\n",
    "    # Check no params are passed for FixedParams\n",
    "    for key in params:\n",
    "        if key in agb.params._fixed_params():\n",
    "            warn(\"Param '%s' is marked as FIXED, but passed in parameters : ignored\" % key)\n",
    "\n",
    "    #lambdas = _preMultiLCAAlgebric(model, methods, alpha=alpha, axis=axis)\n",
    "\n",
    "    df = agb.lca._postMultiLCAAlgebric(methods, lambdas, **params)\n",
    "\n",
    "    model_name = agb.base_utils._actName(model)\n",
    "    while model_name in dfs:\n",
    "        model_name += \"'\"\n",
    "\n",
    "    # param with several values\n",
    "    list_params = {k: vals for k, vals in params.items() if isinstance(vals, list)}\n",
    "\n",
    "    # Shapes the output / index according to the axis or multi param entry\n",
    "    if axis:\n",
    "        df[axis] = lambdas[0].axis_keys\n",
    "        df = df.set_index(axis)\n",
    "        df.index.set_names([axis])\n",
    "\n",
    "        # Filter out line with zero output\n",
    "        df = df.loc[\n",
    "            df.apply(\n",
    "                lambda row: not (row.name is None and row.values[0] == 0.0),\n",
    "                axis=1,\n",
    "            )\n",
    "        ]\n",
    "\n",
    "        # Rename \"None\" to others\n",
    "        df = df.rename(index={None: \"_other_\"})\n",
    "\n",
    "        # Sort index\n",
    "        df.sort_index(inplace=True)\n",
    "\n",
    "        # Add \"total\" line\n",
    "        df.loc[\"*sum*\"] = df.sum(numeric_only=True)\n",
    "\n",
    "    elif len(list_params) > 0:\n",
    "        for k, vals in list_params.items():\n",
    "            df[k] = vals\n",
    "        df = df.set_index(list(list_params.keys()))\n",
    "\n",
    "    else:\n",
    "        # Single output ? => give the single row the name of the model activity\n",
    "        df = df.rename(index={0: model_name})\n",
    "\n",
    "    dfs[model_name] = df\n",
    "\n",
    "    if len(dfs) == 1:\n",
    "        df = list(dfs.values())[0]\n",
    "    else:\n",
    "        # Concat several dataframes for several models\n",
    "        df = pd.concat(list(dfs.values()))\n",
    "\n",
    "    return df"
   ],
   "outputs": []
  },
  {
   "cell_type": "code",
   "execution_count": 158,
   "id": "8d2f00f2-5ea6-43df-b1e9-65b1b726e1f7",
   "metadata": {
    "tags": []
   },
   "source": [
    "start_time = time.time()\n",
    "parameters = {\n",
    "    'year': [year for year in range(2020, 2050)],\n",
    "    'model': 'remind',\n",
    "    'pathway': 'SSP2_Base',\n",
    "    'energy_consumption_electrofuel': 10e12,\n",
    "    'energy_consumption_kerosene': 0.0,\n",
    "    'energy_consumption_biofuel': 0.0,\n",
    "    'elec_solar_share': [1.0 for year in range(2020, 2050)]\n",
    "}\n",
    "res = compute_impacts_from_lambdas(lambdas, methods, axis=None, **parameters)\n",
    "print(\"--- %s seconds ---\" % (time.time() - start_time))"
   ],
   "outputs": []
  },
  {
   "cell_type": "code",
   "execution_count": 159,
   "id": "502838d1-ed84-41e1-8637-e38d7ac38694",
   "metadata": {
    "tags": []
   },
   "source": [
    "res"
   ],
   "outputs": []
  },
  {
   "cell_type": "code",
   "execution_count": 161,
   "id": "06ff51d6-079d-4ce4-a5dd-7d98e96c3639",
   "metadata": {
    "tags": []
   },
   "source": [
    "res['climate change - global warming potential (GWP100)[kg CO2-Eq]'].plot()"
   ],
   "outputs": []
  },
  {
   "cell_type": "code",
   "execution_count": 209,
   "id": "ccc91ef5-3617-4cea-a627-3ac936837b45",
   "metadata": {
    "tags": []
   },
   "source": [
    "parameters = {\n",
    "    'year': [year for year in range(2020, 2051)],\n",
    "    'share_efuel': [i/2051 for i in range(2020, 2051)],\n",
    "    'model': 'remind',\n",
    "    'pathway': 'SSP2_Base'\n",
    "}\n",
    "\n",
    "# Create an empty DataFrame to store the results for each impact method and each year\n",
    "multi_df_lca = pd.DataFrame()\n",
    "\n",
    "for i, year in enumerate(parameters['year']):\n",
    "    parameters_tmp = parameters.copy()\n",
    "    for key, val in parameters_tmp.items():\n",
    "        if isinstance(val, list):\n",
    "            parameters_tmp[key] = val[i]\n",
    "\n",
    "    res = agb.compute_impacts(\n",
    "        model,\n",
    "        methods,\n",
    "        axis='phase',\n",
    "        **parameters_tmp,\n",
    "    )\n",
    "    \n",
    "    # Iterate over each method\n",
    "    df_year = pd.DataFrame()  # DataFrame for the results of each impact method for the current year\n",
    "    for method in res.columns:\n",
    "        # Extract the data for the current method\n",
    "        data = res[method]\n",
    "        # Create a DataFrame with MultiIndex consisting of method and year\n",
    "        df_year_method = pd.DataFrame(data.values, columns=[year], index=pd.MultiIndex.from_product([[method], data.index], names=['method', 'phase']))\n",
    "        # Concatenate the new DataFrame with the existing DataFrame\n",
    "        df_year = pd.concat([df_year, df_year_method], axis=0)\n",
    "        \n",
    "    multi_df_lca = pd.concat([multi_df_lca, df_year], axis=1)\n",
    "\n",
    "multi_df_lca"
   ],
   "outputs": []
  },
  {
   "cell_type": "code",
   "execution_count": null,
   "id": "44d181dc-168f-449e-a314-a652f5647df9",
   "metadata": {},
   "source": [],
   "outputs": []
  },
  {
   "cell_type": "code",
   "execution_count": 221,
   "id": "1209a515-c5fb-4953-9848-ca113b112ccb",
   "metadata": {
    "tags": []
   },
   "source": [
    "test = get_parameter('aircraft_lifetime')\n",
    "test.is_aeromaps_output = True\n",
    "test."
   ],
   "outputs": []
  },
  {
   "cell_type": "code",
   "execution_count": 222,
   "id": "59480262-3bba-44aa-a091-877c1c5bcbfb",
   "metadata": {
    "tags": []
   },
   "source": [
    "test = list()\n",
    "test += ['a', 'b']\n",
    "test"
   ],
   "outputs": []
  },
  {
   "cell_type": "code",
   "execution_count": 196,
   "id": "0f81fea1-5a81-4e67-bf54-a475287e1c5f",
   "metadata": {
    "tags": []
   },
   "source": [
    "# Assuming df is your DataFrame\n",
    "series_list = []\n",
    "\n",
    "# Iterate over each row of the DataFrame\n",
    "for index, row in multi_df_lca.iterrows():\n",
    "    # Convert the row to a Pandas Series\n",
    "    series = row.squeeze()\n",
    "    # Set the name of the series as the tuple index\n",
    "    series.name = index\n",
    "    # Append the series to the list\n",
    "    series_list.append(series)\n",
    "\n",
    "# Now series_list contains all the Pandas Series corresponding to each row of the MultiIndex DataFrame\n",
    "#series_list"
   ],
   "outputs": []
  },
  {
   "cell_type": "code",
   "execution_count": 212,
   "id": "36982716-3e51-4d87-baff-7ae2a40aac19",
   "metadata": {
    "tags": []
   },
   "source": [
    "multi_df_lca.columns"
   ],
   "outputs": []
  },
  {
   "cell_type": "code",
   "execution_count": 215,
   "id": "fd0a9d19-d6ec-40c2-a741-e4529243de78",
   "metadata": {
    "tags": []
   },
   "source": [
    "test = pd.DataFrame(columns=list(range(2020, 2051)))\n",
    "test.columns"
   ],
   "outputs": []
  },
  {
   "cell_type": "code",
   "execution_count": 9,
   "id": "6c635f1c-6868-4754-ac33-b6cf52e0941d",
   "metadata": {
    "tags": []
   },
   "source": [
    "agb.findActivity('kerosene production, synthetic, Fischer Tropsch process, hydrogen from electrolysis, energy allocation',  db_name='ecoinvent_cutoff_3.9_remind_SSP2-Base_2050', loc='World').listExchanges()"
   ],
   "outputs": []
  },
  {
   "cell_type": "code",
   "execution_count": 10,
   "id": "81f16605-af28-4bac-9dc8-4d35f93fab92",
   "metadata": {},
   "source": [
    "def sum_amounts(act, exchange_name):\n",
    "    exchs = act.getExchange(exchange_name, single=False)\n",
    "    total = sum(exch['amount'] for exch in exchs)\n",
    "    return total\n",
    "\n",
    "act = agb.findActivity('kerosene production, synthetic, Fischer Tropsch process, hydrogen from electrolysis, energy allocation',  db_name='ecoinvent_cutoff_3.9_remind_SSP2-Base_2050', loc='World')#.listExchanges()\n",
    "exchange_name = 'market group for electricity*'\n",
    "sum_amounts(act, exchange_name)"
   ],
   "outputs": []
  },
  {
   "cell_type": "code",
   "execution_count": null,
   "id": "bb813407-a6ac-4926-84b8-43c19e35952a",
   "metadata": {},
   "source": [],
   "outputs": []
  }
 ],
 "metadata": {
  "kernelspec": {
   "display_name": "Python 3 (ipykernel)",
   "language": "python",
   "name": "python3"
  },
  "language_info": {
   "codemirror_mode": {
    "name": "ipython",
    "version": 3
   },
   "file_extension": ".py",
   "mimetype": "text/x-python",
   "name": "python",
   "nbconvert_exporter": "python",
   "pygments_lexer": "ipython3",
   "version": "3.10.14"
  }
 },
 "nbformat": 4,
 "nbformat_minor": 5
}
