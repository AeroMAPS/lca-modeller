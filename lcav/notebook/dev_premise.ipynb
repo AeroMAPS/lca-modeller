{
 "cells": [
  {
   "cell_type": "markdown",
   "id": "773ee1c4-0e5f-4187-adf0-4e4cec8da7ec",
   "metadata": {},
   "source": [
    "# Premise dev"
   ]
  },
  {
   "cell_type": "code",
   "execution_count": 2,
   "id": "6a536a48-eb21-433b-9419-bcc61d2deec5",
   "metadata": {},
   "source": [
    "import brightway2 as bw\n",
    "from dotenv import load_dotenv\n",
    "import bw2io\n",
    "import bw2data\n",
    "import os\n",
    "load_dotenv()\n",
    "\n",
    "def safe_delete_brightway_project(projectname: str) -> None:\n",
    "    try:\n",
    "        bw2data.projects.delete_project(\n",
    "            name = projectname,\n",
    "            delete_dir = True\n",
    "        )\n",
    "    except:\n",
    "        pass\n",
    "\n",
    "project_name = 'premise3'\n",
    "str_ecoinvent_version = '3.9.1'\n",
    "str_system_model = 'cutoff'\n",
    "safe_delete_brightway_project(project_name)\n",
    "bw2data.projects.set_current(project_name)"
   ],
   "outputs": []
  },
  {
   "cell_type": "code",
   "execution_count": 3,
   "id": "46d38917-abf6-40b6-8d11-9c8a9975c815",
   "metadata": {},
   "source": [
    "# With EcoInvent Import Helper\n",
    "if len(bw.databases) > 0:\n",
    "    print(\"Initial setup already done, skipping\")\n",
    "else:\n",
    "    # This is now the prefered method to init an Brightway2 with Ecoinvent\n",
    "    # It is not more tied to a specific version of bw2io\n",
    "    bw2io.import_ecoinvent_release(\n",
    "        version=str_ecoinvent_version,  # <-- premise not compatible yet with ei 3.10\n",
    "        system_model=str_system_model,\n",
    "        biosphere_name=\"biosphere3\",  # <-- premise requires the biosphere to be named \"biosphere3\".\n",
    "        #biosphere_write_mode='replace',\n",
    "        username=os.environ[\"ECOINVENT_LOGIN\"],  # Read for .env file\n",
    "        password=os.environ[\"ECOINVENT_PASSWORD\"],  # Read from .env file\n",
    "        use_mp=True)\n",
    "bw.databases"
   ],
   "outputs": []
  },
  {
   "cell_type": "code",
   "execution_count": null,
   "id": "44b84d28-d8aa-44a1-988c-fa2af8ae588b",
   "metadata": {},
   "source": [
    "# With Legacy import\n",
    "#path_dir_datasets_ecoinvent = os.path.expanduser('~') + '/POSTDOC/EcoInvent/ecoinvent ' + str_ecoinvent_version + '_cutoff_ecoSpold02/datasets'\n",
    "\n",
    "#if len(bw.databases) > 0:\n",
    "#    print(\"Initial setup already done, skipping\")\n",
    "#else:\n",
    "#    bw2io.bw2setup()\n",
    "#    ei = bw2io.SingleOutputEcospold2Importer(\n",
    "#        dirpath = path_dir_datasets_ecoinvent,\n",
    "#        db_name = \"ecoinvent-\" + str_ecoinvent_version + \"-\" + str_system_model\n",
    "#        )\n",
    "#    ei.apply_strategies()\n",
    "#    ei.statistics()\n",
    "#    ei.write_database()\n",
    "#bw.databases"
   ],
   "outputs": []
  },
  {
   "cell_type": "code",
   "execution_count": 10,
   "id": "30de4640-bb70-4512-b34b-d126d9deb462",
   "metadata": {},
   "source": [
    "from premise import *\n",
    "\n",
    "# Clear cache recommanded if you messed up with the premise project\n",
    "clear_cache()\n",
    "\n",
    "if \"biosphere3\" not in bw.databases:\n",
    "    raise ValueError(\n",
    "                f\"Biosphere database is missing or is not named 'biosphere3'.\"\n",
    "            )\n",
    "\n",
    "ndb = NewDatabase(\n",
    "      scenarios=[\n",
    "              {\"model\":\"remind\", \"pathway\":\"SSP2-Base\", \"year\":2030}\n",
    "          ],\n",
    "      source_type=\"brightway\",\n",
    "      source_db=\"ecoinvent-\" + str_ecoinvent_version + \"-\" + str_system_model,\n",
    "      source_version=str_ecoinvent_version,\n",
    "      system_model=str_system_model,\n",
    "      key='tUePmX_S5B8ieZkkM7WUU2CnO8SmShwmAeWK9x2rTFo=',\n",
    "      #use_multiprocessing=True, # True by default, set to False if multiprocessing is causing troubles\n",
    "      #keep_uncertainty_data=False # False by default, set to True if you want to keep ecoinvent's uncertainty data\n",
    "  )"
   ],
   "outputs": []
  },
  {
   "cell_type": "code",
   "execution_count": 5,
   "id": "cd6be4a6-9cbd-463c-b1bb-66760e4f8fe7",
   "metadata": {},
   "source": [
    "#ndb.update(\"electricity\")\n",
    "#ndb.update() # <- updates all sectors"
   ],
   "outputs": []
  },
  {
   "cell_type": "code",
   "execution_count": 6,
   "id": "a5f8688f-9576-4852-a522-cd64a1ba89c8",
   "metadata": {},
   "source": [
    "ndb.write_db_to_brightway()"
   ],
   "outputs": []
  },
  {
   "cell_type": "code",
   "execution_count": 7,
   "id": "8fa8d990-f044-4c5b-b5a2-1957e1138d21",
   "metadata": {},
   "source": [
    "bw.databases"
   ],
   "outputs": []
  },
  {
   "cell_type": "code",
   "execution_count": null,
   "id": "65722d6c-9727-450e-beae-fb0963be0ba6",
   "metadata": {},
   "source": [],
   "outputs": []
  },
  {
   "cell_type": "code",
   "execution_count": null,
   "id": "785f20e9-3243-4acf-a1d1-eb9572973958",
   "metadata": {},
   "source": [],
   "outputs": []
  },
  {
   "cell_type": "code",
   "execution_count": null,
   "id": "67a0b231-be4c-436b-bfe1-1c65b7d05656",
   "metadata": {},
   "source": [],
   "outputs": []
  },
  {
   "cell_type": "code",
   "execution_count": null,
   "id": "7da120ff-5546-4e6f-9c74-f301a02e2e78",
   "metadata": {},
   "source": [],
   "outputs": []
  },
  {
   "cell_type": "code",
   "execution_count": null,
   "id": "ac4ae747-5d14-4769-8904-f432984fc7c5",
   "metadata": {},
   "source": [],
   "outputs": []
  },
  {
   "cell_type": "code",
   "execution_count": null,
   "id": "1969cd30-6ddc-4579-91fa-b11606102acf",
   "metadata": {},
   "source": [],
   "outputs": []
  },
  {
   "cell_type": "code",
   "execution_count": 30,
   "id": "01a7fe9e-81e4-43ae-897a-580e09080497",
   "metadata": {},
   "source": [
    "db = bw.Database(\"biosphere3\")\n",
    "[act for act in db if 'd3260d0e-8203-4cbb-a45a-6a13131a5108' in act['code']]"
   ],
   "outputs": []
  }
 ],
 "metadata": {
  "kernelspec": {
   "display_name": "Python 3 (ipykernel)",
   "language": "python",
   "name": "python3"
  },
  "language_info": {
   "codemirror_mode": {
    "name": "ipython",
    "version": 3
   },
   "file_extension": ".py",
   "mimetype": "text/x-python",
   "name": "python",
   "nbconvert_exporter": "python",
   "pygments_lexer": "ipython3",
   "version": "3.10.14"
  }
 },
 "nbformat": 4,
 "nbformat_minor": 5
}
