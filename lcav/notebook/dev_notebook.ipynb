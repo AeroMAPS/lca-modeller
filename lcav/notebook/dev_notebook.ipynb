{
 "cells": [
  {
   "cell_type": "markdown",
   "id": "05c8735b-34cb-4a26-9d2e-dbe57949a65c",
   "metadata": {},
   "source": [
    "# LCAv - Dev Notebook"
   ]
  },
  {
   "cell_type": "code",
   "execution_count": 1,
   "id": "25400f8c-6cc9-4894-8c9e-0d73bfa9aa52",
   "metadata": {
    "tags": []
   },
   "outputs": [],
   "source": [
    "# Libraries import\n",
    "import sys\n",
    "import os\n",
    "import os.path as pth\n",
    "sys.path.insert(0, './..')\n",
    "    \n",
    "from lcav.lca_problem import *\n",
    "from lcav.io.configuration import *\n",
    "from lcav.gui.plots import *\n",
    "\n",
    "# Paths\n",
    "os.chdir('./notebook')\n",
    "DATA_FOLDER = './data'\n",
    "CONFIGURATION_FILE = pth.join(DATA_FOLDER, 'configuration.yaml')"
   ]
  },
  {
   "cell_type": "markdown",
   "id": "29218e8f-7f76-401f-9673-e4a411598878",
   "metadata": {},
   "source": [
    "## 1. Create an LCA problem from a configuration file"
   ]
  },
  {
   "cell_type": "markdown",
   "id": "60ac4599-8f23-482c-99a8-59c1e979132c",
   "metadata": {},
   "source": [
    "### 1.a) Load configuration file and create LCA model"
   ]
  },
  {
   "cell_type": "code",
   "execution_count": 2,
   "id": "e4d03d46-06d9-4f43-be8d-9d75e5df5319",
   "metadata": {},
   "outputs": [
    {
     "name": "stdout",
     "output_type": "stream",
     "text": [
      "Biosphere database already present!!! No setup is needed\n"
     ]
    },
    {
     "name": "stderr",
     "output_type": "stream",
     "text": [
      "Database 'ecoinvent 3.9_cutoff_ecoSpold02' has already been imported \n",
      "Db Foreground DB was here. Reseting it\n"
     ]
    }
   ],
   "source": [
    "problem = LCAProblemConfigurator(CONFIGURATION_FILE).get_problem()"
   ]
  },
  {
   "cell_type": "code",
   "execution_count": 3,
   "id": "f6df4b79-76a1-4f1c-ad0d-002ea9fd5b3a",
   "metadata": {},
   "outputs": [
    {
     "data": {
      "text/html": [
       "<div>\n",
       "<style scoped>\n",
       "    .dataframe tbody tr th:only-of-type {\n",
       "        vertical-align: middle;\n",
       "    }\n",
       "\n",
       "    .dataframe tbody tr th {\n",
       "        vertical-align: top;\n",
       "    }\n",
       "\n",
       "    .dataframe thead th {\n",
       "        text-align: right;\n",
       "    }\n",
       "</style>\n",
       "<table border=\"1\" class=\"dataframe\">\n",
       "  <thead>\n",
       "    <tr style=\"text-align: right;\">\n",
       "      <th></th>\n",
       "      <th>backend</th>\n",
       "      <th>type</th>\n",
       "    </tr>\n",
       "    <tr>\n",
       "      <th>name</th>\n",
       "      <th></th>\n",
       "      <th></th>\n",
       "    </tr>\n",
       "  </thead>\n",
       "  <tbody>\n",
       "    <tr>\n",
       "      <th>biosphere3</th>\n",
       "      <td>sqlite</td>\n",
       "      <td>background</td>\n",
       "    </tr>\n",
       "    <tr>\n",
       "      <th>ecoinvent 3.9_cutoff_ecoSpold02</th>\n",
       "      <td>sqlite</td>\n",
       "      <td>background</td>\n",
       "    </tr>\n",
       "    <tr>\n",
       "      <th>Foreground DB</th>\n",
       "      <td>sqlite</td>\n",
       "      <td>foreground</td>\n",
       "    </tr>\n",
       "  </tbody>\n",
       "</table>\n",
       "</div>"
      ],
      "text/plain": [
       "                                backend        type\n",
       "name                                               \n",
       "biosphere3                       sqlite  background\n",
       "ecoinvent 3.9_cutoff_ecoSpold02  sqlite  background\n",
       "Foreground DB                    sqlite  foreground"
      ]
     },
     "execution_count": 3,
     "metadata": {},
     "output_type": "execute_result"
    }
   ],
   "source": [
    "problem.list_databases()"
   ]
  },
  {
   "cell_type": "code",
   "execution_count": 4,
   "id": "9878beea-75b0-4a37-aae8-a8f1b6b9f1db",
   "metadata": {},
   "outputs": [
    {
     "data": {
      "text/html": [
       "<table>\n",
       "<thead>\n",
       "<tr><th>group  </th><th>name                       </th><th>label                      </th><th>default           </th><th style=\"text-align: right;\">  min</th><th>max  </th><th>std  </th><th>distrib  </th><th>unit  </th><th>db           </th></tr>\n",
       "</thead>\n",
       "<tbody>\n",
       "<tr><td>       </td><td>a                          </td><td>a                          </td><td>1.0               </td><td style=\"text-align: right;\">    0</td><td>     </td><td>     </td><td>linear   </td><td>      </td><td>Foreground DB</td></tr>\n",
       "<tr><td>       </td><td>b                          </td><td>b                          </td><td>1.0               </td><td style=\"text-align: right;\">    0</td><td>     </td><td>     </td><td>linear   </td><td>      </td><td>Foreground DB</td></tr>\n",
       "<tr><td>       </td><td>c                          </td><td>c                          </td><td>1.0               </td><td style=\"text-align: right;\">    0</td><td>     </td><td>     </td><td>linear   </td><td>      </td><td>Foreground DB</td></tr>\n",
       "<tr><td>       </td><td>d                          </td><td>d                          </td><td>1.0               </td><td style=\"text-align: right;\">    0</td><td>     </td><td>     </td><td>linear   </td><td>      </td><td>Foreground DB</td></tr>\n",
       "<tr><td>       </td><td>f                          </td><td>f                          </td><td>1.0               </td><td style=\"text-align: right;\">    0</td><td>     </td><td>     </td><td>linear   </td><td>      </td><td>Foreground DB</td></tr>\n",
       "<tr><td>       </td><td>g                          </td><td>g                          </td><td>1.0               </td><td style=\"text-align: right;\">    0</td><td>     </td><td>     </td><td>linear   </td><td>      </td><td>Foreground DB</td></tr>\n",
       "<tr><td>       </td><td>scaler_value               </td><td>scaler value               </td><td>1.0               </td><td style=\"text-align: right;\">    0</td><td>     </td><td>     </td><td>linear   </td><td>      </td><td>Foreground DB</td></tr>\n",
       "<tr><td>       </td><td>switch_process_switch_param</td><td>switch process switch param</td><td>backgroundprocessa</td><td style=\"text-align: right;\">     </td><td>     </td><td>     </td><td>         </td><td>      </td><td>Foreground DB</td></tr>\n",
       "</tbody>\n",
       "</table>"
      ],
      "text/plain": [
       "<IPython.core.display.HTML object>"
      ]
     },
     "execution_count": 4,
     "metadata": {},
     "output_type": "execute_result"
    }
   ],
   "source": [
    "problem.list_parameters()"
   ]
  },
  {
   "cell_type": "code",
   "execution_count": 5,
   "id": "3976b5a9-a2dd-4818-9155-a29b4ef92394",
   "metadata": {},
   "outputs": [
    {
     "data": {
      "text/html": [
       "<div>\n",
       "<style scoped>\n",
       "    .dataframe tbody tr th:only-of-type {\n",
       "        vertical-align: middle;\n",
       "    }\n",
       "\n",
       "    .dataframe tbody tr th {\n",
       "        vertical-align: top;\n",
       "    }\n",
       "\n",
       "    .dataframe thead th {\n",
       "        text-align: right;\n",
       "    }\n",
       "</style>\n",
       "<table border=\"1\" class=\"dataframe\">\n",
       "  <thead>\n",
       "    <tr style=\"text-align: right;\">\n",
       "      <th></th>\n",
       "      <th>activity</th>\n",
       "      <th>unit</th>\n",
       "      <th>location</th>\n",
       "      <th>level</th>\n",
       "      <th>database</th>\n",
       "      <th>parent</th>\n",
       "      <th>exchange</th>\n",
       "    </tr>\n",
       "  </thead>\n",
       "  <tbody>\n",
       "    <tr>\n",
       "      <th>normalized model</th>\n",
       "      <td>normalized model</td>\n",
       "      <td>None</td>\n",
       "      <td>GLO</td>\n",
       "      <td>0</td>\n",
       "      <td>Foreground DB</td>\n",
       "      <td></td>\n",
       "      <td></td>\n",
       "    </tr>\n",
       "    <tr>\n",
       "      <th>model</th>\n",
       "      <td>model</td>\n",
       "      <td>None</td>\n",
       "      <td>GLO</td>\n",
       "      <td>1</td>\n",
       "      <td>Foreground DB</td>\n",
       "      <td>normalized model</td>\n",
       "      <td>scaler_value</td>\n",
       "    </tr>\n",
       "    <tr>\n",
       "      <th>market for electric motor, for electric scooter</th>\n",
       "      <td>market for electric motor, for electric scooter</td>\n",
       "      <td>kilogram</td>\n",
       "      <td>GLO</td>\n",
       "      <td>2</td>\n",
       "      <td>ecoinvent 3.9_cutoff_ecoSpold02</td>\n",
       "      <td>model</td>\n",
       "      <td>3.00000000000000</td>\n",
       "    </tr>\n",
       "    <tr>\n",
       "      <th>foreground_process_1</th>\n",
       "      <td>foreground_process_1</td>\n",
       "      <td>kilogram</td>\n",
       "      <td>GLO</td>\n",
       "      <td>2</td>\n",
       "      <td>Foreground DB</td>\n",
       "      <td>model</td>\n",
       "      <td>a*b + c</td>\n",
       "    </tr>\n",
       "    <tr>\n",
       "      <th>market for controller, for electric scooter</th>\n",
       "      <td>market for controller, for electric scooter</td>\n",
       "      <td>kilogram</td>\n",
       "      <td>GLO</td>\n",
       "      <td>3</td>\n",
       "      <td>ecoinvent 3.9_cutoff_ecoSpold02</td>\n",
       "      <td>foreground_process_1</td>\n",
       "      <td>d</td>\n",
       "    </tr>\n",
       "    <tr>\n",
       "      <th>market for carbon fibre reinforced plastic, injection moulded</th>\n",
       "      <td>market for carbon fibre reinforced plastic, in...</td>\n",
       "      <td>kilogram</td>\n",
       "      <td>GLO</td>\n",
       "      <td>3</td>\n",
       "      <td>ecoinvent 3.9_cutoff_ecoSpold02</td>\n",
       "      <td>foreground_process_1</td>\n",
       "      <td>1.00000000000000</td>\n",
       "    </tr>\n",
       "    <tr>\n",
       "      <th>switch_process</th>\n",
       "      <td>switch_process</td>\n",
       "      <td>None</td>\n",
       "      <td>GLO</td>\n",
       "      <td>2</td>\n",
       "      <td>Foreground DB</td>\n",
       "      <td>model</td>\n",
       "      <td>1.00000000000000</td>\n",
       "    </tr>\n",
       "    <tr>\n",
       "      <th>market for battery cell, Li-ion, NMC811</th>\n",
       "      <td>market for battery cell, Li-ion, NMC811</td>\n",
       "      <td>kilogram</td>\n",
       "      <td>GLO</td>\n",
       "      <td>3</td>\n",
       "      <td>ecoinvent 3.9_cutoff_ecoSpold02</td>\n",
       "      <td>switch_process</td>\n",
       "      <td>1.0*switch_process_switch_param_backgroundproc...</td>\n",
       "    </tr>\n",
       "    <tr>\n",
       "      <th>foreground_process_b</th>\n",
       "      <td>foreground_process_b</td>\n",
       "      <td>None</td>\n",
       "      <td>GLO</td>\n",
       "      <td>3</td>\n",
       "      <td>Foreground DB</td>\n",
       "      <td>switch_process</td>\n",
       "      <td>2.0*switch_process_switch_param_foregroundproc...</td>\n",
       "    </tr>\n",
       "    <tr>\n",
       "      <th>market group for electricity, low voltage [Europe without Switzerland]</th>\n",
       "      <td>market group for electricity, low voltage [Eur...</td>\n",
       "      <td>kilowatt hour</td>\n",
       "      <td>Europe without Switzerland</td>\n",
       "      <td>4</td>\n",
       "      <td>ecoinvent 3.9_cutoff_ecoSpold02</td>\n",
       "      <td>foreground_process_b</td>\n",
       "      <td>f + g</td>\n",
       "    </tr>\n",
       "    <tr>\n",
       "      <th>market group for electricity, low voltage [US]</th>\n",
       "      <td>market group for electricity, low voltage [US]</td>\n",
       "      <td>kilowatt hour</td>\n",
       "      <td>US</td>\n",
       "      <td>4</td>\n",
       "      <td>ecoinvent 3.9_cutoff_ecoSpold02</td>\n",
       "      <td>foreground_process_b</td>\n",
       "      <td>1.00000000000000</td>\n",
       "    </tr>\n",
       "  </tbody>\n",
       "</table>\n",
       "</div>"
      ],
      "text/plain": [
       "                                                                                             activity  \\\n",
       "normalized model                                                                     normalized model   \n",
       "model                                                                                           model   \n",
       "market for electric motor, for electric scooter       market for electric motor, for electric scooter   \n",
       "foreground_process_1                                                             foreground_process_1   \n",
       "market for controller, for electric scooter               market for controller, for electric scooter   \n",
       "market for carbon fibre reinforced plastic, inj...  market for carbon fibre reinforced plastic, in...   \n",
       "switch_process                                                                         switch_process   \n",
       "market for battery cell, Li-ion, NMC811                       market for battery cell, Li-ion, NMC811   \n",
       "foreground_process_b                                                             foreground_process_b   \n",
       "market group for electricity, low voltage [Euro...  market group for electricity, low voltage [Eur...   \n",
       "market group for electricity, low voltage [US]         market group for electricity, low voltage [US]   \n",
       "\n",
       "                                                             unit  \\\n",
       "normalized model                                             None   \n",
       "model                                                        None   \n",
       "market for electric motor, for electric scooter          kilogram   \n",
       "foreground_process_1                                     kilogram   \n",
       "market for controller, for electric scooter              kilogram   \n",
       "market for carbon fibre reinforced plastic, inj...       kilogram   \n",
       "switch_process                                               None   \n",
       "market for battery cell, Li-ion, NMC811                  kilogram   \n",
       "foreground_process_b                                         None   \n",
       "market group for electricity, low voltage [Euro...  kilowatt hour   \n",
       "market group for electricity, low voltage [US]      kilowatt hour   \n",
       "\n",
       "                                                                      location  \\\n",
       "normalized model                                                           GLO   \n",
       "model                                                                      GLO   \n",
       "market for electric motor, for electric scooter                            GLO   \n",
       "foreground_process_1                                                       GLO   \n",
       "market for controller, for electric scooter                                GLO   \n",
       "market for carbon fibre reinforced plastic, inj...                         GLO   \n",
       "switch_process                                                             GLO   \n",
       "market for battery cell, Li-ion, NMC811                                    GLO   \n",
       "foreground_process_b                                                       GLO   \n",
       "market group for electricity, low voltage [Euro...  Europe without Switzerland   \n",
       "market group for electricity, low voltage [US]                              US   \n",
       "\n",
       "                                                    level  \\\n",
       "normalized model                                        0   \n",
       "model                                                   1   \n",
       "market for electric motor, for electric scooter         2   \n",
       "foreground_process_1                                    2   \n",
       "market for controller, for electric scooter             3   \n",
       "market for carbon fibre reinforced plastic, inj...      3   \n",
       "switch_process                                          2   \n",
       "market for battery cell, Li-ion, NMC811                 3   \n",
       "foreground_process_b                                    3   \n",
       "market group for electricity, low voltage [Euro...      4   \n",
       "market group for electricity, low voltage [US]          4   \n",
       "\n",
       "                                                                           database  \\\n",
       "normalized model                                                      Foreground DB   \n",
       "model                                                                 Foreground DB   \n",
       "market for electric motor, for electric scooter     ecoinvent 3.9_cutoff_ecoSpold02   \n",
       "foreground_process_1                                                  Foreground DB   \n",
       "market for controller, for electric scooter         ecoinvent 3.9_cutoff_ecoSpold02   \n",
       "market for carbon fibre reinforced plastic, inj...  ecoinvent 3.9_cutoff_ecoSpold02   \n",
       "switch_process                                                        Foreground DB   \n",
       "market for battery cell, Li-ion, NMC811             ecoinvent 3.9_cutoff_ecoSpold02   \n",
       "foreground_process_b                                                  Foreground DB   \n",
       "market group for electricity, low voltage [Euro...  ecoinvent 3.9_cutoff_ecoSpold02   \n",
       "market group for electricity, low voltage [US]      ecoinvent 3.9_cutoff_ecoSpold02   \n",
       "\n",
       "                                                                  parent  \\\n",
       "normalized model                                                           \n",
       "model                                                   normalized model   \n",
       "market for electric motor, for electric scooter                    model   \n",
       "foreground_process_1                                               model   \n",
       "market for controller, for electric scooter         foreground_process_1   \n",
       "market for carbon fibre reinforced plastic, inj...  foreground_process_1   \n",
       "switch_process                                                     model   \n",
       "market for battery cell, Li-ion, NMC811                   switch_process   \n",
       "foreground_process_b                                      switch_process   \n",
       "market group for electricity, low voltage [Euro...  foreground_process_b   \n",
       "market group for electricity, low voltage [US]      foreground_process_b   \n",
       "\n",
       "                                                                                             exchange  \n",
       "normalized model                                                                                       \n",
       "model                                                                                    scaler_value  \n",
       "market for electric motor, for electric scooter                                      3.00000000000000  \n",
       "foreground_process_1                                                                          a*b + c  \n",
       "market for controller, for electric scooter                                                         d  \n",
       "market for carbon fibre reinforced plastic, inj...                                   1.00000000000000  \n",
       "switch_process                                                                       1.00000000000000  \n",
       "market for battery cell, Li-ion, NMC811             1.0*switch_process_switch_param_backgroundproc...  \n",
       "foreground_process_b                                2.0*switch_process_switch_param_foregroundproc...  \n",
       "market group for electricity, low voltage [Euro...                                              f + g  \n",
       "market group for electricity, low voltage [US]                                       1.00000000000000  "
      ]
     },
     "execution_count": 5,
     "metadata": {},
     "output_type": "execute_result"
    }
   ],
   "source": [
    "df = problem.list_processes()\n",
    "df"
   ]
  },
  {
   "cell_type": "code",
   "execution_count": 6,
   "id": "8c14d274-b0b9-4715-9165-fe0856839b20",
   "metadata": {},
   "outputs": [
    {
     "data": {
      "text/html": [
       "\n",
       "        <iframe\n",
       "            width=\"100%\"\n",
       "            height=\"700\"\n",
       "            src=\"process_tree.html\"\n",
       "            frameborder=\"0\"\n",
       "            allowfullscreen\n",
       "            \n",
       "        ></iframe>\n",
       "        "
      ],
      "text/plain": [
       "<IPython.lib.display.IFrame at 0x1a455f720d0>"
      ]
     },
     "metadata": {},
     "output_type": "display_data"
    }
   ],
   "source": [
    "# Plot process tree: REPLACE WITH FUNCTIONS FROM ACTIVITY BROWSER OF BW2 ?\n",
    "process_tree(problem)"
   ]
  },
  {
   "cell_type": "markdown",
   "id": "ec3b732c-7ee2-4ad9-828a-7c214b7712eb",
   "metadata": {},
   "source": [
    "### 1.b) Compile LCIA functions for future use and save LCA problem"
   ]
  },
  {
   "cell_type": "code",
   "execution_count": null,
   "id": "7dd058f0-c989-4855-8c73-766e27447174",
   "metadata": {},
   "outputs": [],
   "source": [
    "# Compile LCIA function\n",
    "problem.compile_lcia_functions()"
   ]
  },
  {
   "cell_type": "code",
   "execution_count": 67,
   "id": "c0b48571-6b38-43d2-8e31-cf676e1dc34e",
   "metadata": {},
   "outputs": [
    {
     "name": "stdout",
     "output_type": "stream",
     "text": [
      "LCA problem saved in ./lcia_expression.pickle and lcia_expression.bw2.\n"
     ]
    }
   ],
   "source": [
    "FILE_PATH = './lca_problem'\n",
    "problem.save(FILE_PATH)"
   ]
  },
  {
   "cell_type": "markdown",
   "id": "e7ddef00-9cf4-4d2b-99c5-b946edcaa5b0",
   "metadata": {},
   "source": [
    "## 2. Load an existing LCA problem"
   ]
  },
  {
   "cell_type": "code",
   "execution_count": 3,
   "id": "35ac0c39-e8dd-420a-bf94-f218051ebc61",
   "metadata": {},
   "outputs": [
    {
     "name": "stderr",
     "output_type": "stream",
     "text": [
      "Writing activities to SQLite3 database:\n"
     ]
    },
    {
     "name": "stdout",
     "output_type": "stream",
     "text": [
      "Biosphere database already present!!! No setup is needed\n"
     ]
    },
    {
     "name": "stderr",
     "output_type": "stream",
     "text": [
      "0% [#####] 100% | ETA: 00:00:00\n",
      "Total time elapsed: 00:00:00\n"
     ]
    },
    {
     "name": "stdout",
     "output_type": "stream",
     "text": [
      "Title: Writing activities to SQLite3 database:\n",
      "  Started: 01/23/2024 15:17:24\n",
      "  Finished: 01/23/2024 15:17:24\n",
      "  Total time elapsed: 00:00:00\n",
      "  CPU %: 97.70\n",
      "  Memory %: 1.50\n",
      "Loaded LCA problem from ./lcia_expression.pickle and lcia_expression.bw2.\n"
     ]
    },
    {
     "name": "stderr",
     "output_type": "stream",
     "text": [
      "[ParamRegistry] Param a was already defined in 'Foreground DB' : overriding.\n",
      "[ParamRegistry] Param b was already defined in 'Foreground DB' : overriding.\n",
      "[ParamRegistry] Param c was already defined in 'Foreground DB' : overriding.\n",
      "[ParamRegistry] Param d was already defined in 'Foreground DB' : overriding.\n",
      "[ParamRegistry] Param f was already defined in 'Foreground DB' : overriding.\n",
      "[ParamRegistry] Param g was already defined in 'Foreground DB' : overriding.\n",
      "[ParamRegistry] Param scaler_value was already defined in 'Foreground DB' : overriding.\n",
      "[ParamRegistry] Param switch_process_switch_param was already defined in 'Foreground DB' : overriding.\n"
     ]
    }
   ],
   "source": [
    "FILE_PATH = './lcia_expression'\n",
    "problem = LCAProblem(load_from_file=FILE_PATH)"
   ]
  },
  {
   "cell_type": "code",
   "execution_count": 11,
   "id": "a50d447c-6ff4-4818-a674-91cd0795c94a",
   "metadata": {},
   "outputs": [
    {
     "name": "stderr",
     "output_type": "stream",
     "text": [
      "Required param 'switch_process_switch_param' was missing, replacing by default value : backgroundprocessa\n",
      "Required param 'c' was missing, replacing by default value : 1.0\n",
      "Required param 'a' was missing, replacing by default value : 1.0\n",
      "Required param 'f' was missing, replacing by default value : 1.0\n",
      "Required param 'b' was missing, replacing by default value : 1.0\n",
      "Required param 'scaler_value' was missing, replacing by default value : 1.0\n",
      "Required param 'g' was missing, replacing by default value : 1.0\n",
      "Required param 'd' was missing, replacing by default value : 1.0\n"
     ]
    },
    {
     "data": {
      "text/html": [
       "<div>\n",
       "<style scoped>\n",
       "    .dataframe tbody tr th:only-of-type {\n",
       "        vertical-align: middle;\n",
       "    }\n",
       "\n",
       "    .dataframe tbody tr th {\n",
       "        vertical-align: top;\n",
       "    }\n",
       "\n",
       "    .dataframe thead th {\n",
       "        text-align: right;\n",
       "    }\n",
       "</style>\n",
       "<table border=\"1\" class=\"dataframe\">\n",
       "  <thead>\n",
       "    <tr style=\"text-align: right;\">\n",
       "      <th></th>\n",
       "      <th>acidification - accumulated exceedance (AE)[mol H+-Eq]</th>\n",
       "      <th>climate change - global warming potential (GWP100)[kg CO2-Eq]</th>\n",
       "    </tr>\n",
       "  </thead>\n",
       "  <tbody>\n",
       "    <tr>\n",
       "      <th>0</th>\n",
       "      <td>2.199195</td>\n",
       "      <td>292.864301</td>\n",
       "    </tr>\n",
       "  </tbody>\n",
       "</table>\n",
       "</div>"
      ],
      "text/plain": [
       "   acidification - accumulated exceedance (AE)[mol H+-Eq]  \\\n",
       "0                                           2.199195        \n",
       "\n",
       "   climate change - global warming potential (GWP100)[kg CO2-Eq]  \n",
       "0                                         292.864301              "
      ]
     },
     "execution_count": 11,
     "metadata": {},
     "output_type": "execute_result"
    }
   ],
   "source": [
    "parameters = {}\n",
    "problem.evaluate_lcia_functions(parameters)"
   ]
  },
  {
   "cell_type": "code",
   "execution_count": 12,
   "id": "74336f14-5e18-4b0e-9a5f-9e37ebf96c19",
   "metadata": {},
   "outputs": [
    {
     "name": "stdout",
     "output_type": "stream",
     "text": [
      "'normalized model' (None, GLO, None) [('EF v3.1', 'acidification', 'accumulated exceedance (AE)'), ('EF v3.1', 'climate change', 'global warming potential (GWP100)')] None {}\n"
     ]
    },
    {
     "name": "stderr",
     "output_type": "stream",
     "text": [
      "Required param 'switch_process_switch_param' was missing, replacing by default value : backgroundprocessa\n",
      "Required param 'c' was missing, replacing by default value : 1.0\n",
      "Required param 'a' was missing, replacing by default value : 1.0\n",
      "Required param 'f' was missing, replacing by default value : 1.0\n",
      "Required param 'b' was missing, replacing by default value : 1.0\n",
      "Required param 'scaler_value' was missing, replacing by default value : 1.0\n",
      "Required param 'g' was missing, replacing by default value : 1.0\n",
      "Required param 'd' was missing, replacing by default value : 1.0\n"
     ]
    },
    {
     "data": {
      "text/html": [
       "<div>\n",
       "<style scoped>\n",
       "    .dataframe tbody tr th:only-of-type {\n",
       "        vertical-align: middle;\n",
       "    }\n",
       "\n",
       "    .dataframe tbody tr th {\n",
       "        vertical-align: top;\n",
       "    }\n",
       "\n",
       "    .dataframe thead th {\n",
       "        text-align: right;\n",
       "    }\n",
       "</style>\n",
       "<table border=\"1\" class=\"dataframe\">\n",
       "  <thead>\n",
       "    <tr style=\"text-align: right;\">\n",
       "      <th></th>\n",
       "      <th>acidification - accumulated exceedance (AE)[mol H+-Eq]</th>\n",
       "      <th>climate change - global warming potential (GWP100)[kg CO2-Eq]</th>\n",
       "    </tr>\n",
       "  </thead>\n",
       "  <tbody>\n",
       "    <tr>\n",
       "      <th>normalized model</th>\n",
       "      <td>2.199195</td>\n",
       "      <td>292.864301</td>\n",
       "    </tr>\n",
       "  </tbody>\n",
       "</table>\n",
       "</div>"
      ],
      "text/plain": [
       "                  acidification - accumulated exceedance (AE)[mol H+-Eq]  \\\n",
       "normalized model                                           2.199195        \n",
       "\n",
       "                  climate change - global warming potential (GWP100)[kg CO2-Eq]  \n",
       "normalized model                                         292.864301              "
      ]
     },
     "execution_count": 12,
     "metadata": {},
     "output_type": "execute_result"
    }
   ],
   "source": [
    "parameters = {}\n",
    "problem.compute_lcia(parameters)"
   ]
  },
  {
   "cell_type": "markdown",
   "id": "93042944-90e0-466b-93f4-bc93ee694d53",
   "metadata": {},
   "source": [
    "## 3. In-loop LCAv calculations: example"
   ]
  },
  {
   "cell_type": "code",
   "execution_count": null,
   "id": "b2c33579-fea5-4926-a9aa-a9e5f5da8c05",
   "metadata": {},
   "outputs": [],
   "source": []
  }
 ],
 "metadata": {
  "kernelspec": {
   "display_name": "Python 3 (ipykernel)",
   "language": "python",
   "name": "python3"
  },
  "language_info": {
   "codemirror_mode": {
    "name": "ipython",
    "version": 3
   },
   "file_extension": ".py",
   "mimetype": "text/x-python",
   "name": "python",
   "nbconvert_exporter": "python",
   "pygments_lexer": "ipython3",
   "version": "3.9.18"
  }
 },
 "nbformat": 4,
 "nbformat_minor": 5
}
